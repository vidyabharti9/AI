{
 "cells": [
  {
   "cell_type": "markdown",
   "metadata": {},
   "source": [
    "Adjacent_List \n"
   ]
  },
  {
   "cell_type": "code",
   "execution_count": 286,
   "metadata": {},
   "outputs": [
    {
     "data": {
      "text/html": [
       "<div>\n",
       "<style scoped>\n",
       "    .dataframe tbody tr th:only-of-type {\n",
       "        vertical-align: middle;\n",
       "    }\n",
       "\n",
       "    .dataframe tbody tr th {\n",
       "        vertical-align: top;\n",
       "    }\n",
       "\n",
       "    .dataframe thead th {\n",
       "        text-align: right;\n",
       "    }\n",
       "</style>\n",
       "<table border=\"1\" class=\"dataframe\">\n",
       "  <thead>\n",
       "    <tr style=\"text-align: right;\">\n",
       "      <th></th>\n",
       "      <th>node1</th>\n",
       "      <th>node2</th>\n",
       "      <th>route_distance</th>\n",
       "      <th>Heuristic distance</th>\n",
       "    </tr>\n",
       "  </thead>\n",
       "  <tbody>\n",
       "    <tr>\n",
       "      <th>0</th>\n",
       "      <td>Agra</td>\n",
       "      <td>Raebareli</td>\n",
       "      <td>401</td>\n",
       "      <td>339</td>\n",
       "    </tr>\n",
       "    <tr>\n",
       "      <th>1</th>\n",
       "      <td>Agra</td>\n",
       "      <td>Sarangarh</td>\n",
       "      <td>1002</td>\n",
       "      <td>804</td>\n",
       "    </tr>\n",
       "    <tr>\n",
       "      <th>2</th>\n",
       "      <td>Agra</td>\n",
       "      <td>Agra</td>\n",
       "      <td>0</td>\n",
       "      <td>0</td>\n",
       "    </tr>\n",
       "    <tr>\n",
       "      <th>3</th>\n",
       "      <td>Agra</td>\n",
       "      <td>Sitapur</td>\n",
       "      <td>326</td>\n",
       "      <td>267</td>\n",
       "    </tr>\n",
       "    <tr>\n",
       "      <th>4</th>\n",
       "      <td>Agra</td>\n",
       "      <td>Araria</td>\n",
       "      <td>1098</td>\n",
       "      <td>947</td>\n",
       "    </tr>\n",
       "    <tr>\n",
       "      <th>...</th>\n",
       "      <td>...</td>\n",
       "      <td>...</td>\n",
       "      <td>...</td>\n",
       "      <td>...</td>\n",
       "    </tr>\n",
       "    <tr>\n",
       "      <th>197</th>\n",
       "      <td>Sri Ganganagar</td>\n",
       "      <td>Kota</td>\n",
       "      <td>714</td>\n",
       "      <td>555</td>\n",
       "    </tr>\n",
       "    <tr>\n",
       "      <th>198</th>\n",
       "      <td>Sri Ganganagar</td>\n",
       "      <td>Sri Ganganagar</td>\n",
       "      <td>0</td>\n",
       "      <td>0</td>\n",
       "    </tr>\n",
       "    <tr>\n",
       "      <th>199</th>\n",
       "      <td>Una</td>\n",
       "      <td>Arrah</td>\n",
       "      <td>1307</td>\n",
       "      <td>1050</td>\n",
       "    </tr>\n",
       "    <tr>\n",
       "      <th>200</th>\n",
       "      <td>Una</td>\n",
       "      <td>Kota</td>\n",
       "      <td>861</td>\n",
       "      <td>694</td>\n",
       "    </tr>\n",
       "    <tr>\n",
       "      <th>201</th>\n",
       "      <td>Una</td>\n",
       "      <td>Patna</td>\n",
       "      <td>1359</td>\n",
       "      <td>1084</td>\n",
       "    </tr>\n",
       "  </tbody>\n",
       "</table>\n",
       "<p>202 rows × 4 columns</p>\n",
       "</div>"
      ],
      "text/plain": [
       "              node1           node2  route_distance  Heuristic distance\n",
       "0              Agra       Raebareli             401                 339\n",
       "1              Agra       Sarangarh            1002                 804\n",
       "2              Agra            Agra               0                   0\n",
       "3              Agra         Sitapur             326                 267\n",
       "4              Agra          Araria            1098                 947\n",
       "..              ...             ...             ...                 ...\n",
       "197  Sri Ganganagar            Kota             714                 555\n",
       "198  Sri Ganganagar  Sri Ganganagar               0                   0\n",
       "199             Una           Arrah            1307                1050\n",
       "200             Una            Kota             861                 694\n",
       "201             Una           Patna            1359                1084\n",
       "\n",
       "[202 rows x 4 columns]"
      ]
     },
     "execution_count": 286,
     "metadata": {},
     "output_type": "execute_result"
    }
   ],
   "source": [
    "import pandas as pd\n",
    "df = pd.read_csv(\"random_connected_graph.csv\")\n",
    "df"
   ]
  },
  {
   "cell_type": "code",
   "execution_count": 287,
   "metadata": {},
   "outputs": [
    {
     "data": {
      "text/plain": [
       "{'Bhagalpur': [('Prayagraj', 591),\n",
       "  ('Daudnagar', 298),\n",
       "  ('Nawada', 181),\n",
       "  ('Mirzapur', 525)],\n",
       " 'Agra': [('Raebareli', 401),\n",
       "  ('Sarangarh', 1002),\n",
       "  ('Agra', 0),\n",
       "  ('Sitapur', 326),\n",
       "  ('Araria', 1098),\n",
       "  ('Jehanabad', 872)],\n",
       " 'Mirzapur': [('Arrah', 242),\n",
       "  ('Bhagalpur', 525),\n",
       "  ('Chitrakoot', 196),\n",
       "  ('Delhi', 761),\n",
       "  ('Palamu', 339)],\n",
       " 'Madhepura': [('Baghpat', 1136), ('Jaipur', 1208), ('Madhepura', 0)],\n",
       " 'Jodhpur': [('Belagavi', 1457)],\n",
       " 'Delhi': [('Calicut', 2401),\n",
       "  ('Faridabad', 46),\n",
       "  ('Mirzapur', 761),\n",
       "  ('Ghazipur', 844),\n",
       "  ('Durgapur', 1297)],\n",
       " 'Nawada': [('Bhagalpur', 181),\n",
       "  ('Kota', 1146),\n",
       "  ('Lakhimpur', 719),\n",
       "  ('Rajsamand', 1389),\n",
       "  ('Sitamarhi', 224),\n",
       "  ('Nawada', 0)],\n",
       " 'Pakur': [('Aligarh', 1221),\n",
       "  ('Bhopal', 1362),\n",
       "  ('Calicut', 2430),\n",
       "  ('Faridabad', 1335),\n",
       "  ('Sitamarhi', 450),\n",
       "  ('Pakur', 0)],\n",
       " 'Calicut': [('Bhopal', 1711),\n",
       "  ('Bundi', 1930),\n",
       "  ('Gaya', 2372),\n",
       "  ('Delhi', 2401),\n",
       "  ('Pakur', 2430),\n",
       "  ('Durgapur', 2264),\n",
       "  ('Rohtas', 2262)],\n",
       " 'Bhopal': [('Gaya', 986),\n",
       "  ('Bundi', 375),\n",
       "  ('Hanamkonda', 793),\n",
       "  ('Pakur', 1362),\n",
       "  ('Durgapur', 1252),\n",
       "  ('Calicut', 1711)],\n",
       " 'Patna': [('Belagavi', 1869),\n",
       "  ('Bundi', 1162),\n",
       "  ('Jaipur', 1077),\n",
       "  ('Jehanabad', 52),\n",
       "  ('Una', 1359)],\n",
       " 'Sitapur': [('Agra', 326), ('Baghpat', 433), ('Gaya', 628)],\n",
       " 'Bikaner': [('Gaya', 1396),\n",
       "  ('Lakhimpur', 884),\n",
       "  ('Sagar', 919),\n",
       "  ('Durgapur', 1674)],\n",
       " 'Rajsamand': [('Aligarh', 619), ('Arrah', 1325), ('Nawada', 1389)],\n",
       " 'Sagar': [('Bikaner', 919), ('Morena', 342), ('Sagar', 0)],\n",
       " 'Lucknow': [('Jaipur', 569), ('Jehanabad', 538), ('Sitamarhi', 553)],\n",
       " 'Kota': [('Chitrakoot', 606),\n",
       "  ('Kota', 0),\n",
       "  ('Una', 861),\n",
       "  ('Sitamarhi', 1177),\n",
       "  ('Nawada', 1146),\n",
       "  ('Sri Ganganagar', 714)],\n",
       " 'Bundi': [('Aligarh', 453),\n",
       "  ('Bhopal', 375),\n",
       "  ('Patna', 1162),\n",
       "  ('Calicut', 1930)],\n",
       " 'Lakhimpur': [('Bikaner', 884),\n",
       "  ('Chitrakoot', 357),\n",
       "  ('Jaipur', 587),\n",
       "  ('Lakhimpur', 0),\n",
       "  ('Nawada', 719),\n",
       "  ('Palamu', 713)],\n",
       " 'Una': [('Arrah', 1307), ('Kota', 861), ('Patna', 1359)],\n",
       " 'Jehanabad': [('Agra', 872),\n",
       "  ('Lucknow', 538),\n",
       "  ('Patna', 52),\n",
       "  ('Jehanabad', 0)],\n",
       " 'Palamu': [('Balaghat', 704),\n",
       "  ('Belagavi', 1711),\n",
       "  ('Lakhimpur', 713),\n",
       "  ('Mahoba', 652),\n",
       "  ('Mirzapur', 339)],\n",
       " 'Prayagraj': [('Arrah', 308),\n",
       "  ('Bhagalpur', 591),\n",
       "  ('Faridabad', 615),\n",
       "  ('Prayagraj', 0)],\n",
       " 'Sitamarhi': [('Balaghat', 1026),\n",
       "  ('Ghazipur', 289),\n",
       "  ('Kota', 1177),\n",
       "  ('Lucknow', 553),\n",
       "  ('Nawada', 224),\n",
       "  ('Pakur', 450),\n",
       "  ('Sikar', 1237)],\n",
       " 'Gaya': [('Bhopal', 986),\n",
       "  ('Bikaner', 1396),\n",
       "  ('Calicut', 2372),\n",
       "  ('Sarangarh', 566),\n",
       "  ('Sitapur', 628)],\n",
       " 'Sarangarh': [('Agra', 1002),\n",
       "  ('Aligarh', 1095),\n",
       "  ('Chitrakoot', 686),\n",
       "  ('Gaya', 566),\n",
       "  ('Morena', 923),\n",
       "  ('Sarangarh', 0)],\n",
       " 'Chitrakoot': [('Belagavi', 1466),\n",
       "  ('Kota', 606),\n",
       "  ('Sarangarh', 686),\n",
       "  ('Lakhimpur', 357),\n",
       "  ('Mirzapur', 196)],\n",
       " 'Balaghat': [('Belagavi', 1089),\n",
       "  ('Sitamarhi', 1026),\n",
       "  ('Morena', 714),\n",
       "  ('Mahoba', 540),\n",
       "  ('Palamu', 704),\n",
       "  ('Balaghat', 0)],\n",
       " 'Baghpat': [('Madhepura', 1136), ('Sitapur', 433), ('Mahoba', 607)],\n",
       " 'Durgapur': [('Bhopal', 1252),\n",
       "  ('Bikaner', 1674),\n",
       "  ('Calicut', 2264),\n",
       "  ('Delhi', 1297),\n",
       "  ('Raebareli', 743),\n",
       "  ('Durgapur', 0)],\n",
       " 'Belagavi': [('Araria', 2176),\n",
       "  ('Balaghat', 1089),\n",
       "  ('Raebareli', 1617),\n",
       "  ('Patna', 1869),\n",
       "  ('Jodhpur', 1457),\n",
       "  ('Chitrakoot', 1466),\n",
       "  ('Palamu', 1711),\n",
       "  ('Sri Ganganagar', 1878)],\n",
       " 'Sri Ganganagar': [('Belagavi', 1878),\n",
       "  ('Jaipur', 461),\n",
       "  ('Kota', 714),\n",
       "  ('Sri Ganganagar', 0)],\n",
       " 'Rohtas': [('Arrah', 94),\n",
       "  ('Calicut', 2262),\n",
       "  ('Ghazipur', 94),\n",
       "  ('Sikar', 1078)],\n",
       " 'Morena': [('Balaghat', 714),\n",
       "  ('Daudnagar', 772),\n",
       "  ('Sarangarh', 923),\n",
       "  ('Sagar', 342)],\n",
       " 'Mahoba': [('Baghpat', 607),\n",
       "  ('Balaghat', 540),\n",
       "  ('Ghazipur', 441),\n",
       "  ('Raebareli', 196),\n",
       "  ('Palamu', 652)],\n",
       " 'Raebareli': [('Agra', 401),\n",
       "  ('Belagavi', 1617),\n",
       "  ('Durgapur', 743),\n",
       "  ('Mahoba', 196)],\n",
       " 'Aligarh': [('Rajsamand', 619),\n",
       "  ('Bundi', 453),\n",
       "  ('Sarangarh', 1095),\n",
       "  ('Pakur', 1221)],\n",
       " 'Jaipur': [('Ghazipur', 915),\n",
       "  ('Lucknow', 569),\n",
       "  ('Patna', 1077),\n",
       "  ('Lakhimpur', 587),\n",
       "  ('Madhepura', 1208),\n",
       "  ('Sri Ganganagar', 461)],\n",
       " 'Sikar': [('Rohtas', 1078), ('Sitamarhi', 1237)],\n",
       " 'Daudnagar': [('Arrah', 87), ('Bhagalpur', 298), ('Morena', 772)],\n",
       " 'Faridabad': [('Delhi', 46), ('Prayagraj', 615), ('Pakur', 1335)],\n",
       " 'Hanamkonda': [('Bhopal', 793)],\n",
       " 'Ghazipur': [('Delhi', 844),\n",
       "  ('Sitamarhi', 289),\n",
       "  ('Mahoba', 441),\n",
       "  ('Jaipur', 915),\n",
       "  ('Rohtas', 94)],\n",
       " 'Arrah': [('Rajsamand', 1325),\n",
       "  ('Prayagraj', 308),\n",
       "  ('Una', 1307),\n",
       "  ('Daudnagar', 87),\n",
       "  ('Mirzapur', 242),\n",
       "  ('Rohtas', 94)],\n",
       " 'Araria': [('Agra', 1098), ('Belagavi', 2176), ('Araria', 0)]}"
      ]
     },
     "execution_count": 287,
     "metadata": {},
     "output_type": "execute_result"
    }
   ],
   "source": [
    "distinct_city = set(df[\"node1\"])\n",
    "adjacent_list = {}\n",
    "for key in distinct_city:\n",
    "    adj_city = []\n",
    "    for i,j,k in zip(df[\"node1\"],df[\"node2\"],df[\"route_distance\"]): \n",
    "        if key == i:\n",
    "            adj_city_weight = (j,k)\n",
    "            adj_city.append(adj_city_weight)\n",
    "\n",
    "    adjacent_list[key] = adj_city\n",
    "\n",
    "adjacent_list"
   ]
  },
  {
   "cell_type": "code",
   "execution_count": 288,
   "metadata": {},
   "outputs": [
    {
     "data": {
      "text/plain": [
       "{'Agra': 748,\n",
       " 'Aligarh': 770,\n",
       " 'Araria': 287,\n",
       " 'Arrah': 90,\n",
       " 'Baghpat': 898,\n",
       " 'Balaghat': 592,\n",
       " 'Belagavi': 1476,\n",
       " 'Bhagalpur': 205,\n",
       " 'Bhopal': 790,\n",
       " 'Bikaner': 1219,\n",
       " 'Bundi': 945,\n",
       " 'Calicut': 1786,\n",
       " 'Chitrakoot': 419,\n",
       " 'Daudnagar': 66,\n",
       " 'Delhi': 896,\n",
       " 'Durgapur': 273,\n",
       " 'Faridabad': 863,\n",
       " 'Lucknow': 465,\n",
       " 'Rajsamand': 1122,\n",
       " 'Raebareli': 409,\n",
       " 'Patna': 89,\n",
       " 'Gaya': 0,\n",
       " 'Kota': 923,\n",
       " 'Sikar': 1033,\n",
       " 'Prayagraj': 325,\n",
       " 'Una': 1131,\n",
       " 'Sarangarh': 405,\n",
       " 'Lakhimpur': 547,\n",
       " 'Madhepura': 206,\n",
       " 'Hanamkonda': 939,\n",
       " 'Sitamarhi': 205,\n",
       " 'Morena': 728,\n",
       " 'Sitapur': 530,\n",
       " 'Jodhpur': 1214,\n",
       " 'Mahoba': 519,\n",
       " 'Pakur': 288,\n",
       " 'Sagar': 644,\n",
       " 'Nawada': 55,\n",
       " 'Mirzapur': 248,\n",
       " 'Ghazipur': 168,\n",
       " 'Jaipur': 952,\n",
       " 'Rohtas': 103,\n",
       " 'Palamu': 139,\n",
       " 'Jehanabad': 46,\n",
       " 'Sri Ganganagar': 1236}"
      ]
     },
     "execution_count": 288,
     "metadata": {},
     "output_type": "execute_result"
    }
   ],
   "source": [
    "df2 = pd.read_csv(\"complete_graph.csv\")\n",
    "heuristic = {}\n",
    "target_city = \"Gaya\"\n",
    "for i,j,k in zip(df2[\"node1\"],df2[\"node2\"],df2[\"Heuristic distance\"]):\n",
    "    if target_city == i:\n",
    "        heuristic[j] = k\n",
    "\n",
    "heuristic        "
   ]
  },
  {
   "cell_type": "code",
   "execution_count": 289,
   "metadata": {},
   "outputs": [],
   "source": [
    "import time\n",
    "import sys"
   ]
  },
  {
   "cell_type": "code",
   "execution_count": 290,
   "metadata": {},
   "outputs": [],
   "source": [
    "def bfs(start, goal):\n",
    "    # access the adjacent_list defined outside the function\n",
    "    global adjacent_list\n",
    "\n",
    "    # Initializing a queue with the starting node and a list with the starting node\n",
    "    queue = [(start, [start])]\n",
    "    visited = set()\n",
    "\n",
    "    # Continue the loop until the queue is not empty\n",
    "    while queue:\n",
    "        node, path = queue.pop(0)\n",
    "        if start == goal:\n",
    "            return path  #return the complete path from the start to the goal\n",
    "        # Dequeue the first element from the queue\n",
    "        if node in visited: \n",
    "            continue\n",
    "\n",
    "        # Iterate through the neighbors of the current node\n",
    "        for neighbor, _ in adjacent_list[node]:\n",
    "\n",
    "            # If neighbor is the goal node, return the path to reach it\n",
    "            if neighbor == goal:\n",
    "                return path + [neighbor]  #return the complete path from the start to the goal\n",
    "\n",
    "            if neighbor not in visited:\n",
    "                queue.append((neighbor, path + [neighbor]))  # Add the neighbor and the path leading to it to the queue\n",
    "\n",
    "        visited.add(node)  \n",
    "\n",
    "    return None\n",
    "\n",
    "# bfs(\"Delhi\",\"Patna\")  \n"
   ]
  },
  {
   "cell_type": "code",
   "execution_count": 306,
   "metadata": {},
   "outputs": [
    {
     "name": "stdout",
     "output_type": "stream",
     "text": [
      "['Delhi', 'Calicut', 'Bundi', 'Patna']\n",
      "0.0010037422180175781\n",
      "88\n"
     ]
    }
   ],
   "source": [
    "\n",
    "start_time = time.time()\n",
    "path = bfs(\"Delhi\", \"Patna\")\n",
    "print(path)\n",
    "\n",
    "end_time = time.time()\n",
    "elapsed_time = end_time - start_time\n",
    "print(elapsed_time)\n",
    "\n",
    "memory_usage = sys.getsizeof(path)\n",
    "print(memory_usage)\n"
   ]
  },
  {
   "cell_type": "code",
   "execution_count": 320,
   "metadata": {},
   "outputs": [
    {
     "name": "stdout",
     "output_type": "stream",
     "text": [
      "['Patna', 'Bundi', 'Calicut', 'Delhi']\n",
      "0.0010008811950683594\n",
      "88\n"
     ]
    }
   ],
   "source": [
    "start_time = time.time()\n",
    "path = bfs(\"Patna\", \"Delhi\")\n",
    "print(path)\n",
    "\n",
    "end_time = time.time()\n",
    "elapsed_time = end_time - start_time\n",
    "print(elapsed_time)\n",
    "\n",
    "memory_usage = sys.getsizeof(path)\n",
    "print(memory_usage)"
   ]
  },
  {
   "cell_type": "code",
   "execution_count": 333,
   "metadata": {},
   "outputs": [
    {
     "name": "stdout",
     "output_type": "stream",
     "text": [
      "['Gaya']\n",
      "0.0010008811950683594\n",
      "64\n"
     ]
    }
   ],
   "source": [
    "start_time = time.time()\n",
    "path = bfs(\"Gaya\", \"Gaya\")\n",
    "print(path)\n",
    "\n",
    "end_time = time.time()\n",
    "elapsed_time = end_time - start_time\n",
    "print(elapsed_time)\n",
    "\n",
    "memory_usage = sys.getsizeof(path)\n",
    "print(memory_usage)"
   ]
  },
  {
   "cell_type": "code",
   "execution_count": 353,
   "metadata": {},
   "outputs": [
    {
     "name": "stdout",
     "output_type": "stream",
     "text": [
      "['Jehanabad', 'Agra', 'Sarangarh', 'Gaya']\n",
      "0.0010018348693847656\n",
      "88\n"
     ]
    }
   ],
   "source": [
    "start_time = time.time()\n",
    "path = bfs(\"Jehanabad\", \"Gaya\")\n",
    "print(path)\n",
    "\n",
    "end_time = time.time()\n",
    "elapsed_time = end_time - start_time\n",
    "print(elapsed_time)\n",
    "\n",
    "memory_usage = sys.getsizeof(path)\n",
    "print(memory_usage)"
   ]
  },
  {
   "cell_type": "code",
   "execution_count": 359,
   "metadata": {},
   "outputs": [
    {
     "name": "stdout",
     "output_type": "stream",
     "text": [
      "['Calicut', 'Bundi']\n",
      "0.0009996891021728516\n",
      "72\n"
     ]
    }
   ],
   "source": [
    "start_time = time.time()\n",
    "path = bfs(\"Calicut\", \"Bundi\")\n",
    "print(path)\n",
    "\n",
    "end_time = time.time()\n",
    "elapsed_time = end_time - start_time\n",
    "print(elapsed_time)\n",
    "\n",
    "memory_usage = sys.getsizeof(path)\n",
    "print(memory_usage)"
   ]
  },
  {
   "cell_type": "code",
   "execution_count": 284,
   "metadata": {},
   "outputs": [],
   "source": [
    "def dfs(start, goal):\n",
    "    # initializing same it as done in bfs\n",
    "    stack = [(start, [start])]\n",
    "    visited = set()\n",
    "    # Continue the loop until the stack is not empty\n",
    "    while stack:\n",
    "\n",
    "        #deleting the top elemnt from stack\n",
    "        node, path = stack.pop()\n",
    "\n",
    "        if node in visited:\n",
    "            continue    # If the node is already visited, skip it\n",
    "\n",
    "        if node == goal:\n",
    "            return path  # if its goal node , return the path\n",
    "\n",
    "        visited.add(node)\n",
    "\n",
    "        for neighbor, _ in reversed(adjacent_list[node]):\n",
    "            if neighbor not in visited:\n",
    "                stack.append((neighbor, path + [neighbor]))\n",
    "\n",
    "    return None \n",
    "\n",
    "\n",
    "\n",
    "\n"
   ]
  },
  {
   "cell_type": "code",
   "execution_count": 283,
   "metadata": {},
   "outputs": [
    {
     "name": "stdout",
     "output_type": "stream",
     "text": [
      "['Delhi', 'Calicut', 'Bhopal', 'Gaya', 'Bikaner', 'Lakhimpur', 'Chitrakoot', 'Belagavi', 'Araria', 'Agra', 'Raebareli', 'Mahoba', 'Baghpat', 'Madhepura', 'Jaipur', 'Ghazipur', 'Sitamarhi', 'Balaghat', 'Morena', 'Daudnagar', 'Arrah', 'Rajsamand', 'Aligarh', 'Bundi', 'Patna']\n",
      "25\n",
      "0.001001596450805664\n",
      "256\n"
     ]
    }
   ],
   "source": [
    "start_time = time.time()\n",
    "path = dfs(\"Delhi\", \"Patna\")\n",
    "print(path)\n",
    "print(len(path))\n",
    "\n",
    "end_time = time.time()\n",
    "elapsed_time = end_time - start_time\n",
    "print(elapsed_time)\n",
    "\n",
    "memory_usage = sys.getsizeof(path)\n",
    "print(memory_usage)"
   ]
  },
  {
   "cell_type": "code",
   "execution_count": 282,
   "metadata": {},
   "outputs": [
    {
     "name": "stdout",
     "output_type": "stream",
     "text": [
      "['Patna', 'Belagavi', 'Araria', 'Agra', 'Raebareli', 'Durgapur', 'Bhopal', 'Gaya', 'Bikaner', 'Lakhimpur', 'Chitrakoot', 'Kota', 'Una', 'Arrah', 'Rajsamand', 'Aligarh', 'Bundi', 'Calicut', 'Delhi']\n",
      "19\n",
      "0.0010027885437011719\n",
      "208\n"
     ]
    }
   ],
   "source": [
    "start_time = time.time()\n",
    "path = dfs(\"Patna\", \"Delhi\")\n",
    "print(path)\n",
    "print(len(path))\n",
    "\n",
    "end_time = time.time()\n",
    "elapsed_time = end_time - start_time\n",
    "print(elapsed_time)\n",
    "\n",
    "memory_usage = sys.getsizeof(path)\n",
    "print(memory_usage)"
   ]
  },
  {
   "cell_type": "code",
   "execution_count": 276,
   "metadata": {},
   "outputs": [
    {
     "name": "stdout",
     "output_type": "stream",
     "text": [
      "['Jehanabad', 'Agra', 'Raebareli', 'Belagavi', 'Balaghat', 'Sitamarhi', 'Ghazipur', 'Delhi', 'Calicut', 'Bhopal', 'Gaya']\n",
      "11\n",
      "0.0010013580322265625\n",
      "144\n"
     ]
    }
   ],
   "source": [
    "start_time = time.time()\n",
    "path = dfs(\"Jehanabad\", \"Gaya\")\n",
    "print(path)\n",
    "print(len(path))\n",
    "\n",
    "end_time = time.time()\n",
    "elapsed_time = end_time - start_time\n",
    "print(elapsed_time)\n",
    "\n",
    "memory_usage = sys.getsizeof(path)\n",
    "print(memory_usage)"
   ]
  },
  {
   "cell_type": "code",
   "execution_count": 273,
   "metadata": {},
   "outputs": [
    {
     "name": "stdout",
     "output_type": "stream",
     "text": [
      "['Gaya']\n",
      "1\n",
      "0.000997781753540039\n",
      "64\n"
     ]
    }
   ],
   "source": [
    "start_time = time.time()\n",
    "path = dfs(\"Gaya\", \"Gaya\")\n",
    "print(path)\n",
    "print(len(path))\n",
    "\n",
    "end_time = time.time()\n",
    "elapsed_time = end_time - start_time\n",
    "print(elapsed_time)\n",
    "\n",
    "memory_usage = sys.getsizeof(path)\n",
    "print(memory_usage)"
   ]
  },
  {
   "cell_type": "code",
   "execution_count": 271,
   "metadata": {},
   "outputs": [
    {
     "name": "stdout",
     "output_type": "stream",
     "text": [
      "['Calicut', 'Bhopal', 'Gaya', 'Bikaner', 'Lakhimpur', 'Chitrakoot', 'Belagavi', 'Araria', 'Agra', 'Raebareli', 'Durgapur', 'Delhi', 'Faridabad', 'Prayagraj', 'Arrah', 'Rajsamand', 'Aligarh', 'Bundi']\n",
      "18\n",
      "0.001001596450805664\n",
      "200\n"
     ]
    }
   ],
   "source": [
    "start_time = time.time()\n",
    "path = dfs(\"Calicut\", \"Bundi\")\n",
    "print(path)\n",
    "print(len(path))\n",
    "\n",
    "end_time = time.time()\n",
    "elapsed_time = end_time - start_time\n",
    "print(elapsed_time)\n",
    "\n",
    "memory_usage = sys.getsizeof(path)\n",
    "print(memory_usage)"
   ]
  },
  {
   "cell_type": "code",
   "execution_count": 269,
   "metadata": {},
   "outputs": [],
   "source": [
    "def GBFS(start, target):\n",
    "    path = [start]  # Initialize the path by starting node\n",
    "\n",
    "    while path[-1] != target:  # Continue until the last node in the path is the target node\n",
    "        current_node = path[-1]\n",
    "        neighbors = []\n",
    "        for node, _ in adjacent_list[current_node]:\n",
    "            if node not in path:\n",
    "                neighbors.append((node, heuristic[node]))\n",
    "        # neighbors = [(node, heuristic_distanc[node]) for node, _ in adj_list[current_node] if node not in path]\n",
    "\n",
    "        if not neighbors:\n",
    "            print('Graph Stuck at a dead end.')\n",
    "            return []\n",
    "\n",
    "        # Find the next node with the lowest heuristic value\n",
    "        min_heuristic_value = float('inf')\n",
    "        next_node = None\n",
    "        for neighbor, heuristic_value in neighbors:\n",
    "            if heuristic_value < min_heuristic_value:\n",
    "                min_heuristic_value = heuristic_value\n",
    "                next_node = neighbor\n",
    "\n",
    "        path.append(next_node)\n",
    "\n",
    "    return path\n",
    "\n",
    "# Define your adjacency list 'adj_list' and 'heuristic_distanc' before using the function.\n",
    "\n",
    "\n"
   ]
  },
  {
   "cell_type": "code",
   "execution_count": 268,
   "metadata": {},
   "outputs": [
    {
     "name": "stdout",
     "output_type": "stream",
     "text": [
      "['Delhi', 'Ghazipur', 'Rohtas', 'Arrah', 'Daudnagar', 'Bhagalpur', 'Nawada', 'Sitamarhi', 'Pakur', 'Aligarh', 'Sarangarh', 'Gaya', 'Sitapur', 'Agra', 'Jehanabad', 'Patna']\n",
      "16\n",
      "0.0009980201721191406\n",
      "184\n"
     ]
    }
   ],
   "source": [
    "start_time = time.time()\n",
    "path = GBFS(\"Delhi\", \"Patna\")\n",
    "print(path)\n",
    "print(len(path))\n",
    "\n",
    "end_time = time.time()\n",
    "elapsed_time = end_time - start_time\n",
    "print(elapsed_time)\n",
    "\n",
    "memory_usage = sys.getsizeof(path)\n",
    "print(memory_usage)"
   ]
  },
  {
   "cell_type": "code",
   "execution_count": 266,
   "metadata": {},
   "outputs": [
    {
     "name": "stdout",
     "output_type": "stream",
     "text": [
      "['Patna', 'Jehanabad', 'Lucknow', 'Sitamarhi', 'Nawada', 'Bhagalpur', 'Daudnagar', 'Arrah', 'Rohtas', 'Ghazipur', 'Mahoba', 'Palamu', 'Mirzapur', 'Chitrakoot', 'Sarangarh', 'Gaya', 'Sitapur', 'Agra', 'Araria', 'Belagavi', 'Raebareli', 'Durgapur', 'Bhopal', 'Pakur', 'Aligarh', 'Bundi', 'Calicut', 'Delhi']\n",
      "28\n",
      "0.0009992122650146484\n",
      "312\n"
     ]
    }
   ],
   "source": [
    "start_time = time.time()\n",
    "path = GBFS(\"Patna\", \"Delhi\")\n",
    "print(path)\n",
    "print(len(path))\n",
    "\n",
    "end_time = time.time()\n",
    "elapsed_time = end_time - start_time\n",
    "print(elapsed_time)\n",
    "\n",
    "memory_usage = sys.getsizeof(path)\n",
    "print(memory_usage)"
   ]
  },
  {
   "cell_type": "code",
   "execution_count": 261,
   "metadata": {},
   "outputs": [
    {
     "name": "stdout",
     "output_type": "stream",
     "text": [
      "['Jehanabad', 'Patna', 'Bundi', 'Aligarh', 'Pakur', 'Sitamarhi', 'Nawada', 'Bhagalpur', 'Daudnagar', 'Arrah', 'Rohtas', 'Ghazipur', 'Mahoba', 'Palamu', 'Mirzapur', 'Chitrakoot', 'Sarangarh', 'Gaya']\n",
      "18\n",
      "0.0009984970092773438\n",
      "248\n"
     ]
    }
   ],
   "source": [
    "start_time = time.time()\n",
    "path = GBFS(\"Jehanabad\", \"Gaya\")\n",
    "print(path)\n",
    "print(len(path))\n",
    "\n",
    "end_time = time.time()\n",
    "elapsed_time = end_time - start_time\n",
    "print(elapsed_time)\n",
    "\n",
    "memory_usage = sys.getsizeof(path)\n",
    "print(memory_usage)"
   ]
  },
  {
   "cell_type": "code",
   "execution_count": 256,
   "metadata": {},
   "outputs": [
    {
     "name": "stdout",
     "output_type": "stream",
     "text": [
      "['Gaya']\n",
      "1\n",
      "0.0010030269622802734\n",
      "64\n"
     ]
    }
   ],
   "source": [
    "start_time = time.time()\n",
    "path = GBFS(\"Gaya\", \"Gaya\")\n",
    "print(path)\n",
    "print(len(path))\n",
    "\n",
    "end_time = time.time()\n",
    "elapsed_time = end_time - start_time\n",
    "print(elapsed_time)\n",
    "\n",
    "memory_usage = sys.getsizeof(path)\n",
    "print(memory_usage)"
   ]
  },
  {
   "cell_type": "code",
   "execution_count": 254,
   "metadata": {},
   "outputs": [
    {
     "name": "stdout",
     "output_type": "stream",
     "text": [
      "Graph Stuck at a dead end.\n",
      "[]\n",
      "0\n",
      "0.00099945068359375\n",
      "56\n"
     ]
    }
   ],
   "source": [
    "start_time = time.time()\n",
    "path = GBFS(\"Calicut\", \"Bundi\")\n",
    "print(path)\n",
    "print(len(path))\n",
    "\n",
    "end_time = time.time()\n",
    "elapsed_time = end_time - start_time\n",
    "print(elapsed_time)\n",
    "\n",
    "memory_usage = sys.getsizeof(path)\n",
    "print(memory_usage)"
   ]
  },
  {
   "cell_type": "code",
   "execution_count": 252,
   "metadata": {},
   "outputs": [],
   "source": [
    "def a_star_search(start, goal, adjacency_list, heuristic_h, visited=None, came_from=None, g_scores=None, open_list=None):\n",
    "    # Initialize default values if not provided\n",
    "    if visited is None:\n",
    "        visited = set()\n",
    "    if came_from is None:\n",
    "        came_from = {}\n",
    "    if g_scores is None:\n",
    "        g_scores = {node: float('inf') for node in adjacency_list}\n",
    "        g_scores[start] = 0\n",
    "    if open_list is None:\n",
    "        open_list = [(heuristic_h[start], start)]  # Initialize with heuristic_h value\n",
    "\n",
    "    min_h_score = float('inf')  # Initialize variable to store the minimum heuristic score\n",
    "    min_index = None  # Initialize variable to store the index of the node with the minimum heuristic score\n",
    "\n",
    "    # Find the node with the minimum h-score in the open_list\n",
    "    for i, (h_score, node) in enumerate(open_list):\n",
    "        if h_score < min_h_score:\n",
    "            min_h_score = h_score\n",
    "            min_index = i\n",
    "\n",
    "    # Remove the node with the minimum h-score from the open_list\n",
    "    _, current_node = open_list.pop(min_index)\n",
    "    visited.add(current_node)  # Mark the current node as visited\n",
    "\n",
    "    # If we reached the goal node, reconstruct and return the path\n",
    "    if current_node == goal:\n",
    "        path = [current_node]\n",
    "        while current_node in came_from:\n",
    "            current_node = came_from[current_node]\n",
    "            path.insert(0, current_node)\n",
    "        return path\n",
    "\n",
    "    # Explore neighbors\n",
    "    for neighbor, cost in adjacency_list[current_node]:\n",
    "        # if neighbor in visited:\n",
    "        #     continue\n",
    "\n",
    "        temp_g_score = g_scores[current_node] + cost\n",
    "\n",
    "        # If the calculated g-score is better than the current g-score for the neighbor\n",
    "        if temp_g_score < g_scores[neighbor]:\n",
    "            came_from[neighbor] = current_node\n",
    "            g_scores[neighbor] = temp_g_score\n",
    "            h_score = g_scores[neighbor] + heuristic_h[neighbor]\n",
    "\n",
    "            # Check if the neighbor is already in the open_list\n",
    "            neighbor_in_open_list = False\n",
    "            for _, node in open_list:\n",
    "                if node == neighbor:\n",
    "                    neighbor_in_open_list = True\n",
    "                    break\n",
    "\n",
    "            # If the neighbor is not in the open_list, add it with the new heuristic score\n",
    "            if not neighbor_in_open_list:\n",
    "                open_list.append((h_score, neighbor))\n",
    "\n",
    "    # Recursively continue the search\n",
    "    return a_star_search(start, goal, adjacency_list, heuristic_h, visited, came_from, g_scores, open_list)\n"
   ]
  },
  {
   "cell_type": "code",
   "execution_count": 225,
   "metadata": {},
   "outputs": [
    {
     "name": "stdout",
     "output_type": "stream",
     "text": [
      "['Delhi', 'Ghazipur', 'Sitamarhi', 'Lucknow', 'Jehanabad', 'Patna']\n",
      "6\n",
      "0.0010020732879638672\n",
      "120\n"
     ]
    }
   ],
   "source": [
    "start_time= time.time()\n",
    "# heulistic_dis = heuristic('Patna')\n",
    "path = a_star_search('Delhi', 'Patna', adjacent_list, heuristic)\n",
    "print(path)\n",
    "print(len(path))\n",
    "end_time = time.time()\n",
    "eclapse_time= end_time- start_time\n",
    "memory_usage = sys.getsizeof(path)\n",
    "print(eclapse_time)\n",
    "print(memory_usage)"
   ]
  },
  {
   "cell_type": "code",
   "execution_count": 251,
   "metadata": {},
   "outputs": [
    {
     "name": "stdout",
     "output_type": "stream",
     "text": [
      "['Patna', 'Jehanabad', 'Lucknow', 'Sitamarhi', 'Ghazipur', 'Delhi']\n",
      "6\n",
      "0.0019991397857666016\n",
      "120\n"
     ]
    }
   ],
   "source": [
    "start_time= time.time()\n",
    "# heulistic_dis = heuristic('Patna')\n",
    "path = a_star_search('Patna', 'Delhi', adjacent_list, heuristic)\n",
    "print(path)\n",
    "print(len(path))\n",
    "end_time = time.time()\n",
    "eclapse_time= end_time- start_time\n",
    "memory_usage = sys.getsizeof(path)\n",
    "print(eclapse_time)\n",
    "print(memory_usage)"
   ]
  },
  {
   "cell_type": "code",
   "execution_count": 236,
   "metadata": {},
   "outputs": [
    {
     "name": "stdout",
     "output_type": "stream",
     "text": [
      "['Jehanabad', 'Agra', 'Sitapur', 'Gaya']\n",
      "4\n",
      "0.0009779930114746094\n",
      "120\n"
     ]
    }
   ],
   "source": [
    "start_time= time.time()\n",
    "# heulistic_dis = heuristic('Patna')\n",
    "path = a_star_search('Jehanabad', 'Gaya', adjacent_list, heuristic)\n",
    "print(path)\n",
    "print(len(path))\n",
    "end_time = time.time()\n",
    "eclapse_time= end_time- start_time\n",
    "memory_usage = sys.getsizeof(path)\n",
    "print(eclapse_time)\n",
    "print(memory_usage)"
   ]
  },
  {
   "cell_type": "code",
   "execution_count": 230,
   "metadata": {},
   "outputs": [
    {
     "name": "stdout",
     "output_type": "stream",
     "text": [
      "['Gaya']\n",
      "1\n",
      "0.0010020732879638672\n",
      "64\n"
     ]
    }
   ],
   "source": [
    "start_time= time.time()\n",
    "\n",
    "path = a_star_search('Gaya', 'Gaya', adjacent_list, heuristic)\n",
    "print(path)\n",
    "print(len(path))\n",
    "end_time = time.time()\n",
    "eclapse_time= end_time- start_time\n",
    "memory_usage = sys.getsizeof(path)\n",
    "print(eclapse_time)\n",
    "print(memory_usage)"
   ]
  },
  {
   "cell_type": "code",
   "execution_count": 229,
   "metadata": {},
   "outputs": [
    {
     "name": "stdout",
     "output_type": "stream",
     "text": [
      "['Calicut', 'Bundi']\n",
      "2\n",
      "0.0009982585906982422\n",
      "120\n"
     ]
    }
   ],
   "source": [
    "start_time= time.time()\n",
    "\n",
    "path = a_star_search('Calicut', 'Bundi', adjacent_list, heuristic)\n",
    "print(path)\n",
    "print(len(path))\n",
    "end_time = time.time()\n",
    "eclapse_time= end_time- start_time\n",
    "memory_usage = sys.getsizeof(path)\n",
    "print(eclapse_time)\n",
    "print(memory_usage)"
   ]
  }
 ],
 "metadata": {
  "kernelspec": {
   "display_name": "base",
   "language": "python",
   "name": "python3"
  },
  "language_info": {
   "codemirror_mode": {
    "name": "ipython",
    "version": 3
   },
   "file_extension": ".py",
   "mimetype": "text/x-python",
   "name": "python",
   "nbconvert_exporter": "python",
   "pygments_lexer": "ipython3",
   "version": "3.9.13"
  }
 },
 "nbformat": 4,
 "nbformat_minor": 2
}
